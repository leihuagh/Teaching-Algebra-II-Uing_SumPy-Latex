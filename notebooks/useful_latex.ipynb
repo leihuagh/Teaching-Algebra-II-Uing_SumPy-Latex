{
 "cells": [
  {
   "cell_type": "markdown",
   "metadata": {},
   "source": [
    "\\begin{equation}\n",
    "       L = \n",
    "        \\begin{cases}\n",
    "            1 & \\text{if $i = j$ and $deg_j \\neq 0 $} \\\\\n",
    "            stuff & \\text{if $(i, j) \\in E$} \\\\\n",
    "            0 & \\text{otherwise}\n",
    "        \\end{cases}\n",
    "    \\end{equation}"
   ]
  },
  {
   "cell_type": "code",
   "execution_count": null,
   "metadata": {},
   "outputs": [],
   "source": []
  }
 ],
 "metadata": {
  "kernelspec": {
   "display_name": "Python 3",
   "language": "python",
   "name": "python3"
  },
  "language_info": {
   "codemirror_mode": {
    "name": "ipython",
    "version": 3
   },
   "file_extension": ".py",
   "mimetype": "text/x-python",
   "name": "python",
   "nbconvert_exporter": "python",
   "pygments_lexer": "ipython3",
   "version": "3.7.3"
  }
 },
 "nbformat": 4,
 "nbformat_minor": 2
}
