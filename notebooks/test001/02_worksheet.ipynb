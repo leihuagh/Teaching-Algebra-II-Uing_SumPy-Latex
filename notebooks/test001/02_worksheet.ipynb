{
 "cells": [
  {
   "cell_type": "markdown",
   "metadata": {},
   "source": [
    "# Worksheet 06~10"
   ]
  },
  {
   "cell_type": "code",
   "execution_count": 1,
   "metadata": {},
   "outputs": [],
   "source": [
    "%config IPCompleter.greedy=True"
   ]
  },
  {
   "cell_type": "code",
   "execution_count": 2,
   "metadata": {},
   "outputs": [],
   "source": [
    "from sympy import *\n",
    "from sympy.geometry.line import Line\n",
    "from sympy.plotting import plot, plot3d\n",
    "import matplotlib.pyplot as plt\n",
    "%matplotlib inline\n",
    "\n",
    "plt.rcParams['figure.figsize'] = 10, 10\n",
    "init_printing(use_unicode=True)\n",
    "x, y, a, b, r, h, sh, k, sd = symbols('x y a b r h sh k sd')"
   ]
  },
  {
   "cell_type": "markdown",
   "metadata": {},
   "source": [
    "6. If $f(x) = 3 \\ln x$ and $g(x) = e^x$, then $g(f(x))=$"
   ]
  },
  {
   "cell_type": "markdown",
   "metadata": {},
   "source": [
    "$\n",
    "\\begin{align}\n",
    "&(A) \\space 3x\\\\\n",
    "&(B) \\space e^x\\\\\n",
    "&(C) \\space e^{2x}\\\\\n",
    "&(D) \\space x^3\\\\\n",
    "&(E) \\space x^2+1\n",
    "\\end{align}\n",
    "$"
   ]
  },
  {
   "cell_type": "markdown",
   "metadata": {},
   "source": [
    "## Solution"
   ]
  },
  {
   "cell_type": "markdown",
   "metadata": {},
   "source": [
    "### My Work"
   ]
  },
  {
   "cell_type": "markdown",
   "metadata": {},
   "source": [
    "$(g(x) \\circ f(x)) = g(f(x)) = e^{f(x)} = e^{3 \\ln x} = e^{\\ln x^{3}} = x^3$"
   ]
  },
  {
   "cell_type": "markdown",
   "metadata": {},
   "source": [
    "### By SymPy"
   ]
  },
  {
   "cell_type": "code",
   "execution_count": 3,
   "metadata": {},
   "outputs": [
    {
     "data": {
      "image/png": "[encoded data removed]",
      "text/latex": [
       "$$\\log{\\left (x^{3} \\right )}$$"
      ],
      "text/plain": [
       "   ⎛ 3⎞\n",
       "log⎝x ⎠"
      ]
     },
     "execution_count": 3,
     "metadata": {},
     "output_type": "execute_result"
    }
   ],
   "source": [
    "F = logcombine(3*ln(x), force=True)\n",
    "F"
   ]
  },
  {
   "cell_type": "code",
   "execution_count": 4,
   "metadata": {},
   "outputs": [
    {
     "data": {
      "image/png": "[encoded data removed]",
      "text/latex": [
       "$$x^{3}$$"
      ],
      "text/plain": [
       " 3\n",
       "x "
      ]
     },
     "execution_count": 4,
     "metadata": {},
     "output_type": "execute_result"
    }
   ],
   "source": [
    "G = exp(x).subs(x, F)\n",
    "G"
   ]
  },
  {
   "cell_type": "markdown",
   "metadata": {},
   "source": [
    "## Answer: (D)"
   ]
  },
  {
   "cell_type": "markdown",
   "metadata": {},
   "source": [
    "7. The slant height of a regular circular cone is $20$ cm and the radius of the base is $10$ cm.  Find the volume of the cone?"
   ]
  },
  {
   "cell_type": "markdown",
   "metadata": {},
   "source": [
    "$(A) 1813.8cm^3$\n",
    "\n",
    "$(B) 3000.5cm^3$\n",
    "\n",
    "$(C) 4120.4cm^3$\n",
    "\n",
    "$(D) 7024.8cm^3$\n",
    "\n",
    "$(E) 7046.6cm^3$"
   ]
  },
  {
   "cell_type": "markdown",
   "metadata": {},
   "source": [
    "## Solution"
   ]
  },
  {
   "cell_type": "markdown",
   "metadata": {},
   "source": [
    "### My Work"
   ]
  },
  {
   "cell_type": "markdown",
   "metadata": {},
   "source": [
    "$V(r, h) = \\frac{1}{3} \\pi r^{2} h$\n",
    "\n",
    "$h(r, sh) = \\sqrt{sh^2-r^2}$\n",
    "\n",
    "$\n",
    "\\begin{align}\n",
    "V(r, sh) & = \\frac{1}{3} \\pi r^2 \\sqrt{sh^2-r^2}\\\\\n",
    "& = \\frac{1}{3} \\pi {10}^2 \\sqrt{{20}^2-{10}^2} \\\\\n",
    "& = 1813.8\n",
    "\\end{align}\n",
    "$"
   ]
  },
  {
   "cell_type": "markdown",
   "metadata": {},
   "source": [
    "### Using SymPy"
   ]
  },
  {
   "cell_type": "code",
   "execution_count": 5,
   "metadata": {},
   "outputs": [
    {
     "data": {
      "image/png": "[encoded data removed]",
      "text/latex": [
       "$$\\frac{\\pi h r^{2}}{3}$$"
      ],
      "text/plain": [
       "     2\n",
       "π⋅h⋅r \n",
       "──────\n",
       "  3   "
      ]
     },
     "execution_count": 5,
     "metadata": {},
     "output_type": "execute_result"
    }
   ],
   "source": [
    "V = Rational(1, 3)*pi*(r**2)*h\n",
    "V"
   ]
  },
  {
   "cell_type": "code",
   "execution_count": 6,
   "metadata": {},
   "outputs": [
    {
     "data": {
      "image/png": "[encoded data removed]",
      "text/latex": [
       "$$\\frac{\\pi r^{2} \\sqrt{- r^{2} + sh^{2}}}{3}$$"
      ],
      "text/plain": [
       "        ____________\n",
       "   2   ╱    2     2 \n",
       "π⋅r ⋅╲╱  - r  + sh  \n",
       "────────────────────\n",
       "         3          "
      ]
     },
     "execution_count": 6,
     "metadata": {},
     "output_type": "execute_result"
    }
   ],
   "source": [
    "V = V.subs(h, sqrt(sh**2-r**2))\n",
    "V"
   ]
  },
  {
   "cell_type": "code",
   "execution_count": 7,
   "metadata": {},
   "outputs": [
    {
     "data": {
      "image/png": "[encoded data removed]",
      "text/latex": [
       "$$\\frac{1000 \\sqrt{3} \\pi}{3}$$"
      ],
      "text/plain": [
       "1000⋅√3⋅π\n",
       "─────────\n",
       "    3    "
      ]
     },
     "execution_count": 7,
     "metadata": {},
     "output_type": "execute_result"
    }
   ],
   "source": [
    "result = V.subs([(r, 10), (sh, 20)])\n",
    "result"
   ]
  },
  {
   "cell_type": "code",
   "execution_count": 8,
   "metadata": {},
   "outputs": [
    {
     "data": {
      "image/png": "[encoded data removed]",
      "text/latex": [
       "$$1813.8$$"
      ],
      "text/plain": [
       "1813.80"
      ]
     },
     "execution_count": 8,
     "metadata": {},
     "output_type": "execute_result"
    }
   ],
   "source": [
    "result.evalf(6)"
   ]
  },
  {
   "cell_type": "markdown",
   "metadata": {},
   "source": [
    "## Answer: (A)"
   ]
  },
  {
   "cell_type": "markdown",
   "metadata": {},
   "source": [
    "8. If $2 - i$ is one of the zeros of the polynomial $p(x)$, then a factor of $p(x)$ could be"
   ]
  },
  {
   "cell_type": "markdown",
   "metadata": {},
   "source": [
    "$(𝐴) 𝑥^2−2$\n",
    "\n",
    "$(B) x^2-4$\n",
    "\n",
    "$(C) x^2-4x+4$\n",
    "\n",
    "$(D) x^2-4x+5$\n",
    "\n",
    "$(E) x^2+4x+3$"
   ]
  },
  {
   "cell_type": "markdown",
   "metadata": {},
   "source": [
    "## Solution"
   ]
  },
  {
   "cell_type": "markdown",
   "metadata": {},
   "source": [
    "### My Work"
   ]
  },
  {
   "cell_type": "markdown",
   "metadata": {},
   "source": [
    "#### Method 1"
   ]
  },
  {
   "cell_type": "markdown",
   "metadata": {},
   "source": [
    "$\n",
    "\\begin{align}\n",
    "(A) \\space x^2-2 = (x-\\sqrt{2})(x+\\sqrt{2}) \\\\\n",
    "x \\in \\{-\\sqrt{2}, \\sqrt{2}\\} \\\\\n",
    "\\end{align}\n",
    "$"
   ]
  },
  {
   "cell_type": "markdown",
   "metadata": {},
   "source": [
    "$\n",
    "\\begin{align}\n",
    "(B) \\space x^2-4 = (x-2)(x+2) \\\\\n",
    "x \\in \\{-2, 2\\} \\\\\n",
    "\\end{align}\n",
    "$"
   ]
  },
  {
   "cell_type": "markdown",
   "metadata": {},
   "source": [
    "$\n",
    "\\begin{align}\n",
    "(C) \\space x^2-4x+4 = (x-2)^2 \\\\\n",
    "x \\in \\{2\\} \\\\\n",
    "\\end{align}\n",
    "$"
   ]
  },
  {
   "cell_type": "markdown",
   "metadata": {},
   "source": [
    "$\n",
    "\\begin{align}\n",
    "(D) \\space x^2-4x+5=x^2-4x+4+1=(x-2)^2-i^2=(x-2+i)(x-2-i) \\\\\n",
    "x \\in \\{2-i, 2+i\\} \\\\\n",
    "\\end{align}\n",
    "$"
   ]
  },
  {
   "cell_type": "markdown",
   "metadata": {},
   "source": [
    "$\n",
    "\\begin{align}\n",
    "(E) \\space x^2+4x+3=(x+3)(x+1) \\\\\n",
    "x \\in \\{-3, -1\\} \\\\\n",
    "\\end{align}\n",
    "$"
   ]
  },
  {
   "cell_type": "markdown",
   "metadata": {},
   "source": [
    "#### Result: Answer should be (D)"
   ]
  },
  {
   "cell_type": "markdown",
   "metadata": {},
   "source": [
    "#### Method 2"
   ]
  },
  {
   "cell_type": "markdown",
   "metadata": {},
   "source": [
    "If one of the root is $2-i$, then $2+i$ should be another root. Set $x_1 = 2 - i$ and $x_2 = 2 + i$"
   ]
  },
  {
   "cell_type": "markdown",
   "metadata": {},
   "source": [
    "$\n",
    "\\begin{align}\n",
    "(x-x_1)(x-x_2) = 0\\\\\n",
    "(x - (2-i))(x - (2 + i)) = 0\\\\\n",
    "x^2 - (2-i)x - (2+i)x + (2-i)(2+i) = 0\\\\\n",
    "x^2 - 2x + ix - 2x - ix + (2^2 - i^2) = 0\\\\\n",
    "x^2 - 4x + (4 - (-1)) = 0 \\\\\n",
    "x^2 -4x + 5 = 0\n",
    "\\end{align}\n",
    "$"
   ]
  },
  {
   "cell_type": "markdown",
   "metadata": {},
   "source": [
    "### Using SymPy"
   ]
  },
  {
   "cell_type": "code",
   "execution_count": 9,
   "metadata": {},
   "outputs": [
    {
     "data": {
      "image/png": "[encoded data removed]",
      "text/latex": [
       "$$2 - i$$"
      ],
      "text/plain": [
       "2 - ⅈ"
      ]
     },
     "execution_count": 9,
     "metadata": {},
     "output_type": "execute_result"
    }
   ],
   "source": [
    "x1 = 2 - I\n",
    "x1"
   ]
  },
  {
   "cell_type": "code",
   "execution_count": 10,
   "metadata": {},
   "outputs": [
    {
     "data": {
      "image/png": "[encoded data removed]",
      "text/latex": [
       "$$2 + i$$"
      ],
      "text/plain": [
       "2 + ⅈ"
      ]
     },
     "execution_count": 10,
     "metadata": {},
     "output_type": "execute_result"
    }
   ],
   "source": [
    "x2 = 2 + I\n",
    "x2"
   ]
  },
  {
   "cell_type": "code",
   "execution_count": 11,
   "metadata": {},
   "outputs": [
    {
     "data": {
      "image/png": "[encoded data removed]",
      "text/latex": [
       "$$\\left(x - 2 - i\\right) \\left(x - 2 + i\\right) = 0$$"
      ],
      "text/plain": [
       "(x - 2 - ⅈ)⋅(x - 2 + ⅈ) = 0"
      ]
     },
     "execution_count": 11,
     "metadata": {},
     "output_type": "execute_result"
    }
   ],
   "source": [
    "eq = Eq((x-x1)*(x-x2), 0)\n",
    "eq"
   ]
  },
  {
   "cell_type": "code",
   "execution_count": 12,
   "metadata": {},
   "outputs": [
    {
     "data": {
      "image/png": "[encoded data removed]",
      "text/latex": [
       "$$x^{2} - 4 x + 5 = 0$$"
      ],
      "text/plain": [
       " 2              \n",
       "x  - 4⋅x + 5 = 0"
      ]
     },
     "execution_count": 12,
     "metadata": {},
     "output_type": "execute_result"
    }
   ],
   "source": [
    "simplify(eq)"
   ]
  },
  {
   "cell_type": "markdown",
   "metadata": {},
   "source": [
    "## Answer: (D)"
   ]
  },
  {
   "cell_type": "markdown",
   "metadata": {},
   "source": [
    "9. When a ploynomial function $f(x)=x^2+5x-k$ is divided by $(x-2)$, the remainder $5$.  What is the value of $k$?"
   ]
  },
  {
   "cell_type": "markdown",
   "metadata": {},
   "source": [
    "$\n",
    "\\begin{align}\n",
    "&(A) \\space 19\\\\\n",
    "&(B) \\space 18\\\\\n",
    "&(C) \\space 16\\\\  \n",
    "&(D) \\space 10\\\\\n",
    "&(E) \\space 9\\\\\n",
    "\\end{align}\n",
    "$"
   ]
  },
  {
   "cell_type": "markdown",
   "metadata": {},
   "source": [
    "## Solution"
   ]
  },
  {
   "cell_type": "markdown",
   "metadata": {},
   "source": [
    "### My Work"
   ]
  },
  {
   "cell_type": "markdown",
   "metadata": {},
   "source": [
    "$f(x) = x^2 + 5x - k = (x-2)Q(x) + R$"
   ]
  },
  {
   "cell_type": "markdown",
   "metadata": {},
   "source": [
    "When $x=2$, $R=5$"
   ]
  },
  {
   "cell_type": "markdown",
   "metadata": {},
   "source": [
    "$\n",
    "\\begin{align}\n",
    "f(2) = 2^2+5*2-k = 4+10-k=5\\\\\n",
    "14-k=5\\\\\n",
    "k=14-5=9\n",
    "\\end{align}\n",
    "$"
   ]
  },
  {
   "cell_type": "markdown",
   "metadata": {},
   "source": [
    "### Using SymPy"
   ]
  },
  {
   "cell_type": "markdown",
   "metadata": {},
   "source": [
    "#### Method 1"
   ]
  },
  {
   "cell_type": "code",
   "execution_count": 13,
   "metadata": {},
   "outputs": [
    {
     "data": {
      "image/png": "[encoded data removed]",
      "text/latex": [
       "$$\\left ( x + 7, \\quad - k + 14\\right )$$"
      ],
      "text/plain": [
       "(x + 7, -k + 14)"
      ]
     },
     "execution_count": 13,
     "metadata": {},
     "output_type": "execute_result"
    }
   ],
   "source": [
    "pdiv(x**2 + 5*x - k, x - 2)"
   ]
  },
  {
   "cell_type": "code",
   "execution_count": 14,
   "metadata": {},
   "outputs": [
    {
     "data": {
      "image/png": "[encoded data removed]",
      "text/latex": [
       "$$- k + 14 = 5$$"
      ],
      "text/plain": [
       "-k + 14 = 5"
      ]
     },
     "execution_count": 14,
     "metadata": {},
     "output_type": "execute_result"
    }
   ],
   "source": [
    "eq = Eq(-k+14, 5)\n",
    "eq"
   ]
  },
  {
   "cell_type": "code",
   "execution_count": 15,
   "metadata": {},
   "outputs": [
    {
     "data": {
      "image/png": "[encoded data removed]",
      "text/latex": [
       "$$\\left [ 9\\right ]$$"
      ],
      "text/plain": [
       "[9]"
      ]
     },
     "execution_count": 15,
     "metadata": {},
     "output_type": "execute_result"
    }
   ],
   "source": [
    "solve(eq, k)"
   ]
  },
  {
   "cell_type": "markdown",
   "metadata": {},
   "source": [
    "#### Method 2"
   ]
  },
  {
   "cell_type": "code",
   "execution_count": 16,
   "metadata": {},
   "outputs": [
    {
     "data": {
      "image/png": "[encoded data removed]",
      "text/latex": [
       "$$- k + 14 = 5$$"
      ],
      "text/plain": [
       "-k + 14 = 5"
      ]
     },
     "execution_count": 16,
     "metadata": {},
     "output_type": "execute_result"
    }
   ],
   "source": [
    "eq = Eq(prem(x**2 + 5*x - k, x - 2), 5)\n",
    "eq"
   ]
  },
  {
   "cell_type": "code",
   "execution_count": 17,
   "metadata": {},
   "outputs": [
    {
     "data": {
      "image/png": "[encoded data removed]",
      "text/latex": [
       "$$\\left [ 9\\right ]$$"
      ],
      "text/plain": [
       "[9]"
      ]
     },
     "execution_count": 17,
     "metadata": {},
     "output_type": "execute_result"
    }
   ],
   "source": [
    "solve(eq, k)"
   ]
  },
  {
   "cell_type": "markdown",
   "metadata": {},
   "source": [
    "## Answer: (E)"
   ]
  },
  {
   "cell_type": "markdown",
   "metadata": {},
   "source": [
    "10. A cube with edge of length $6$, what is the length of diagonal $\\overline{PQ}$?"
   ]
  },
  {
   "cell_type": "markdown",
   "metadata": {},
   "source": [
    "$\n",
    "\\begin{align}\n",
    "& (A) 18 \\\\\n",
    "& (B) 15 \\\\\n",
    "& (C) 6 \\sqrt{6} \\\\\n",
    "& (D) 6 \\sqrt{3} \\\\\n",
    "& (E) 6\\sqrt{2} \n",
    "\\end{align}\n",
    "$"
   ]
  },
  {
   "cell_type": "markdown",
   "metadata": {},
   "source": [
    "## Solution"
   ]
  },
  {
   "cell_type": "markdown",
   "metadata": {},
   "source": [
    "### My Work"
   ]
  },
  {
   "cell_type": "markdown",
   "metadata": {},
   "source": [
    "Set $a$ is `length` of cube, $sd$ is `surface diagonal`, $\\overline{PQ}$ is `cube diagonal`"
   ]
  },
  {
   "cell_type": "markdown",
   "metadata": {},
   "source": [
    "$sd = \\sqrt{a^2+a^2} = \\sqrt{2}a$"
   ]
  },
  {
   "cell_type": "markdown",
   "metadata": {},
   "source": [
    "$\n",
    "\\begin{align}\n",
    "\\overline{PQ} & = \\sqrt{(a^2+sd^2)}\\\\\n",
    "& = \\sqrt{(a^2+(\\sqrt{2}a)^2)}\\\\\n",
    "& = \\sqrt{3}a\\\\\n",
    "& = 6\\sqrt{3}\n",
    "\\end{align}\n",
    "$"
   ]
  },
  {
   "cell_type": "markdown",
   "metadata": {},
   "source": [
    "### Using SymPy"
   ]
  },
  {
   "cell_type": "code",
   "execution_count": 18,
   "metadata": {},
   "outputs": [
    {
     "data": {
      "image/png": "[encoded data removed]",
      "text/latex": [
       "$$\\sqrt{a^{2} + sd^{2}}$$"
      ],
      "text/plain": [
       "   __________\n",
       "  ╱  2     2 \n",
       "╲╱  a  + sd  "
      ]
     },
     "execution_count": 18,
     "metadata": {},
     "output_type": "execute_result"
    }
   ],
   "source": [
    "PQ = sqrt(a**2+sd**2)\n",
    "PQ"
   ]
  },
  {
   "cell_type": "code",
   "execution_count": 22,
   "metadata": {},
   "outputs": [
    {
     "data": {
      "image/png": "[encoded data removed]",
      "text/latex": [
       "$$\\sqrt{2} \\sqrt{a^{2}}$$"
      ],
      "text/plain": [
       "      ____\n",
       "     ╱  2 \n",
       "√2⋅╲╱  a  "
      ]
     },
     "execution_count": 22,
     "metadata": {},
     "output_type": "execute_result"
    }
   ],
   "source": [
    "sd = sqrt(a**2+a**2)\n",
    "sd"
   ]
  },
  {
   "cell_type": "code",
   "execution_count": null,
   "metadata": {},
   "outputs": [],
   "source": []
  },
  {
   "cell_type": "code",
   "execution_count": null,
   "metadata": {},
   "outputs": [],
   "source": []
  }
 ],
 "metadata": {
  "kernelspec": {
   "display_name": "Python 3",
   "language": "python",
   "name": "python3"
  },
  "language_info": {
   "codemirror_mode": {
    "name": "ipython",
    "version": 3
   },
   "file_extension": ".py",
   "mimetype": "text/x-python",
   "name": "python",
   "nbconvert_exporter": "python",
   "pygments_lexer": "ipython3",
   "version": "3.7.3"
  }
 },
 "nbformat": 4,
 "nbformat_minor": 2
}
