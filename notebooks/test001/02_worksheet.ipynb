{
 "cells": [
  {
   "cell_type": "markdown",
   "metadata": {},
   "source": [
    "# Worksheet 06~10"
   ]
  },
  {
   "cell_type": "code",
   "execution_count": 1,
   "metadata": {},
   "outputs": [],
   "source": [
    "%config IPCompleter.greedy=True"
   ]
  },
  {
   "cell_type": "code",
   "execution_count": 2,
   "metadata": {},
   "outputs": [],
   "source": [
    "from sympy import *\n",
    "from sympy.geometry.line import Line\n",
    "from sympy.plotting import plot, plot3d\n",
    "import matplotlib.pyplot as plt\n",
    "%matplotlib inline\n",
    "\n",
    "plt.rcParams['figure.figsize'] = 10, 10\n",
    "init_printing(use_unicode=True)\n",
    "x, y, a, b, r, h, sh = symbols('x y a b r h sh')"
   ]
  },
  {
   "cell_type": "markdown",
   "metadata": {},
   "source": [
    "6. If $f(x) = 3 \\ln x$ and $g(x) = e^x$, then $g(f(x))=$"
   ]
  },
  {
   "cell_type": "markdown",
   "metadata": {},
   "source": [
    "$\n",
    "\\begin{align}\n",
    "&(A) \\space 3x\\\\\n",
    "&(B) \\space e^x\\\\\n",
    "&(C) \\space e^{2x}\\\\\n",
    "&(D) \\space x^3\\\\\n",
    "&(E) \\space x^2+1\n",
    "\\end{align}\n",
    "$"
   ]
  },
  {
   "cell_type": "markdown",
   "metadata": {},
   "source": [
    "## Solution"
   ]
  },
  {
   "cell_type": "markdown",
   "metadata": {},
   "source": [
    "### My Work"
   ]
  },
  {
   "cell_type": "markdown",
   "metadata": {},
   "source": [
    "$(g(x) \\circ f(x)) = g(f(x)) = e^{f(x)} = e^{3 \\ln x} = e^{\\ln x^{3}} = x^3$"
   ]
  },
  {
   "cell_type": "markdown",
   "metadata": {},
   "source": [
    "### By SymPy"
   ]
  },
  {
   "cell_type": "code",
   "execution_count": 3,
   "metadata": {},
   "outputs": [
    {
     "data": {
      "image/png": "[encoded data removed]",
      "text/latex": [
       "$$\\log{\\left (x^{3} \\right )}$$"
      ],
      "text/plain": [
       "   ⎛ 3⎞\n",
       "log⎝x ⎠"
      ]
     },
     "execution_count": 3,
     "metadata": {},
     "output_type": "execute_result"
    }
   ],
   "source": [
    "F = logcombine(3*ln(x), force=True)\n",
    "F"
   ]
  },
  {
   "cell_type": "code",
   "execution_count": 4,
   "metadata": {},
   "outputs": [
    {
     "data": {
      "image/png": "[encoded data removed]",
      "text/latex": [
       "$$x^{3}$$"
      ],
      "text/plain": [
       " 3\n",
       "x "
      ]
     },
     "execution_count": 4,
     "metadata": {},
     "output_type": "execute_result"
    }
   ],
   "source": [
    "G = exp(x).subs(x, F)\n",
    "G"
   ]
  },
  {
   "cell_type": "markdown",
   "metadata": {},
   "source": [
    "## Answer: (D)"
   ]
  },
  {
   "cell_type": "markdown",
   "metadata": {},
   "source": [
    "7. The slant height of a regular circular cone is $20$ cm and the radius of the base is $10$ cm.  Find the volume of the cone?"
   ]
  },
  {
   "cell_type": "markdown",
   "metadata": {},
   "source": [
    "$\n",
    "\\begin{align}\n",
    "&(A) \\space 1813.8cm^3\\\\\n",
    "&(B) \\space 3000.5cm^3\\\\\n",
    "&(C) \\space 4120.4cm^3\\\\  \n",
    "&(D) \\space 7024.8cm^3\\\\\n",
    "&(E) \\space 7046.6cm^3\\\\\n",
    "\\end{align}\n",
    "$"
   ]
  },
  {
   "cell_type": "markdown",
   "metadata": {},
   "source": [
    "## Solution"
   ]
  },
  {
   "cell_type": "markdown",
   "metadata": {},
   "source": [
    "### My Work"
   ]
  },
  {
   "cell_type": "markdown",
   "metadata": {},
   "source": [
    "$V(r, h) = \\frac{1}{3} \\pi r^{2} h$\n",
    "\n",
    "$h(r, sh) = \\sqrt{sh^2-r^2}$\n",
    "\n",
    "$\n",
    "\\begin{align}\n",
    "V(r, sh) & = \\frac{1}{3} \\pi r^2 \\sqrt{sh^2-r^2}\\\\\n",
    "& = \\frac{1}{3} \\pi {10}^2 \\sqrt{{20}^2-{10}^2} \\\\\n",
    "& = 1813.8\n",
    "\\end{align}\n",
    "$"
   ]
  },
  {
   "cell_type": "markdown",
   "metadata": {},
   "source": [
    "### Using SymPy"
   ]
  },
  {
   "cell_type": "code",
   "execution_count": 5,
   "metadata": {},
   "outputs": [
    {
     "data": {
      "image/png": "[encoded data removed]",
      "text/latex": [
       "$$\\frac{\\pi h r^{2}}{3}$$"
      ],
      "text/plain": [
       "     2\n",
       "π⋅h⋅r \n",
       "──────\n",
       "  3   "
      ]
     },
     "execution_count": 5,
     "metadata": {},
     "output_type": "execute_result"
    }
   ],
   "source": [
    "V = Rational(1, 3)*pi*(r**2)*h\n",
    "V"
   ]
  },
  {
   "cell_type": "code",
   "execution_count": 6,
   "metadata": {},
   "outputs": [
    {
     "data": {
      "image/png": "[encoded data removed]",
      "text/latex": [
       "$$\\frac{\\pi r^{2} \\sqrt{- r^{2} + sh^{2}}}{3}$$"
      ],
      "text/plain": [
       "        ____________\n",
       "   2   ╱    2     2 \n",
       "π⋅r ⋅╲╱  - r  + sh  \n",
       "────────────────────\n",
       "         3          "
      ]
     },
     "execution_count": 6,
     "metadata": {},
     "output_type": "execute_result"
    }
   ],
   "source": [
    "V = V.subs(h, sqrt(sh**2-r**2))\n",
    "V"
   ]
  },
  {
   "cell_type": "code",
   "execution_count": 7,
   "metadata": {},
   "outputs": [
    {
     "data": {
      "image/png": "[encoded data removed]",
      "text/latex": [
       "$$\\frac{1000 \\sqrt{3} \\pi}{3}$$"
      ],
      "text/plain": [
       "1000⋅√3⋅π\n",
       "─────────\n",
       "    3    "
      ]
     },
     "execution_count": 7,
     "metadata": {},
     "output_type": "execute_result"
    }
   ],
   "source": [
    "result = V.subs([(r, 10), (sh, 20)])\n",
    "result"
   ]
  },
  {
   "cell_type": "code",
   "execution_count": 8,
   "metadata": {},
   "outputs": [
    {
     "data": {
      "image/png": "[encoded data removed]",
      "text/latex": [
       "$$1813.8$$"
      ],
      "text/plain": [
       "1813.80"
      ]
     },
     "execution_count": 8,
     "metadata": {},
     "output_type": "execute_result"
    }
   ],
   "source": [
    "result.evalf(6)"
   ]
  },
  {
   "cell_type": "markdown",
   "metadata": {},
   "source": [
    "## Answer: (A)"
   ]
  },
  {
   "cell_type": "code",
   "execution_count": null,
   "metadata": {},
   "outputs": [],
   "source": []
  }
 ],
 "metadata": {
  "kernelspec": {
   "display_name": "Python 3",
   "language": "python",
   "name": "python3"
  },
  "language_info": {
   "codemirror_mode": {
    "name": "ipython",
    "version": 3
   },
   "file_extension": ".py",
   "mimetype": "text/x-python",
   "name": "python",
   "nbconvert_exporter": "python",
   "pygments_lexer": "ipython3",
   "version": "3.7.3"
  }
 },
 "nbformat": 4,
 "nbformat_minor": 2
}
