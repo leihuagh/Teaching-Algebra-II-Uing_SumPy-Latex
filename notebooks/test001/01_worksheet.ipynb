{
 "cells": [
  {
   "cell_type": "markdown",
   "metadata": {},
   "source": [
    "# Worksheet 001 (1~5)"
   ]
  },
  {
   "cell_type": "code",
   "execution_count": 1,
   "metadata": {},
   "outputs": [],
   "source": [
    "from sympy import *\n",
    "from sympy.plotting import plot, plot3d\n",
    "import matplotlib.pyplot as plt\n",
    "%matplotlib inline\n",
    "\n",
    "plt.rcParams['figure.figsize'] = 10, 10\n",
    "init_printing(use_unicode=True)\n",
    "x, y, a, b = symbols('x y a b')"
   ]
  },
  {
   "cell_type": "markdown",
   "metadata": {},
   "source": [
    "1. If $a(x+2) + b(x-1)=3$ for all $x$, then $a=$\n",
    "\n",
    "```\n",
    "(A) -1  (B) 0  (C) 1  (D) 2  (E) 3\n",
    "```"
   ]
  },
  {
   "cell_type": "markdown",
   "metadata": {},
   "source": [
    "## Solution"
   ]
  },
  {
   "cell_type": "markdown",
   "metadata": {},
   "source": [
    "### My work"
   ]
  },
  {
   "cell_type": "markdown",
   "metadata": {},
   "source": [
    "$$a(x+2)+b(x-1)=3$$\n",
    "$$ax+2a+bx-b=3$$\n",
    "$$(a+b)x+(2a-b)=3$$\n",
    "\\begin{aligned}\\\\ \n",
    "\\swarrow\\quad&\\searrow \\\\\n",
    "\\\\ a+b=0\\text{ or }&2a-b=3 \\\\ \n",
    "\\end{aligned}"
   ]
  },
  {
   "cell_type": "markdown",
   "metadata": {},
   "source": [
    "\\begin{equation}\n",
    "\\begin{aligned}\n",
    "+ \\left\\{ \\begin{array}{rcr}\n",
    "   a + b &= &0 \\\\ \n",
    "   2a - b &= &3 \n",
    "   \\end{array} \n",
    "   \\right. \\\\\n",
    "   \\hline\n",
    " \\begin{array}{rcr}\n",
    " 3a   &= &\\hphantom{-}3\n",
    " \\end{array}\n",
    "\\end{aligned}\n",
    "\\end{equation}\n",
    "\n",
    "$\n",
    "a = \\frac{3}{3} = 1\n",
    "$\n",
    "\n",
    "$\n",
    "b = -a = -1\n",
    "$\n",
    "\n",
    "$\n",
    "\\begin{cases}\n",
    "    a = 1 \\\\\n",
    "    b = -1\n",
    "\\end{cases}\n",
    "$"
   ]
  },
  {
   "cell_type": "markdown",
   "metadata": {},
   "source": [
    "### Using SymPy"
   ]
  },
  {
   "cell_type": "markdown",
   "metadata": {},
   "source": [
    "#### Method 1"
   ]
  },
  {
   "cell_type": "code",
   "execution_count": 2,
   "metadata": {},
   "outputs": [
    {
     "data": {
      "image/png": "[encoded data removed]",
      "text/latex": [
       "$$a \\left(x + 2\\right) + b \\left(x - 1\\right) = 3$$"
      ],
      "text/plain": [
       "a⋅(x + 2) + b⋅(x - 1) = 3"
      ]
     },
     "execution_count": 2,
     "metadata": {},
     "output_type": "execute_result"
    }
   ],
   "source": [
    "eq = Eq((a*(x+2))+b*(x-1), 3)\n",
    "eq"
   ]
  },
  {
   "cell_type": "code",
   "execution_count": 3,
   "metadata": {},
   "outputs": [
    {
     "data": {
      "image/png": "[encoded data removed]",
      "text/latex": [
       "$$\\left \\{ a : 1, \\quad b : -1\\right \\}$$"
      ],
      "text/plain": [
       "{a: 1, b: -1}"
      ]
     },
     "execution_count": 3,
     "metadata": {},
     "output_type": "execute_result"
    }
   ],
   "source": [
    "solve(eq, a, b)"
   ]
  },
  {
   "cell_type": "markdown",
   "metadata": {},
   "source": [
    "#### Method 2"
   ]
  },
  {
   "cell_type": "code",
   "execution_count": 4,
   "metadata": {},
   "outputs": [
    {
     "data": {
      "image/png": "[encoded data removed]",
      "text/latex": [
       "$$\\left \\{ a : 1, \\quad b : -1\\right \\}$$"
      ],
      "text/plain": [
       "{a: 1, b: -1}"
      ]
     },
     "execution_count": 4,
     "metadata": {},
     "output_type": "execute_result"
    }
   ],
   "source": [
    "solve(((a*(x+2))+b*(x-1)-3), a, b)"
   ]
  },
  {
   "cell_type": "markdown",
   "metadata": {},
   "source": [
    "## Answer: (C)"
   ]
  },
  {
   "cell_type": "markdown",
   "metadata": {},
   "source": [
    "2. If $a+b=2$ and $ab=-1$, then $a^2+b^2=$\n",
    "\n",
    "```\n",
    "(A) 4  (B) 5  (C) 6  (D) 8  (E) 10\n",
    "```"
   ]
  },
  {
   "cell_type": "markdown",
   "metadata": {},
   "source": [
    "## Solution"
   ]
  },
  {
   "cell_type": "markdown",
   "metadata": {},
   "source": [
    "### My Work"
   ]
  },
  {
   "cell_type": "markdown",
   "metadata": {},
   "source": [
    "$\n",
    "\\begin{align}\n",
    "a^2+b^2 & = a^2+b^2+2ab-2ab\\\\\n",
    "& = (a+b)^2-2ab \\\\\n",
    "& = 2^2 - 2(-1)\\\\\n",
    "& = 6\n",
    "\\end{align}\n",
    "$"
   ]
  },
  {
   "cell_type": "markdown",
   "metadata": {},
   "source": [
    "### Using SymPy"
   ]
  },
  {
   "cell_type": "code",
   "execution_count": 5,
   "metadata": {},
   "outputs": [
    {
     "data": {
      "image/png": "[encoded data removed]",
      "text/latex": [
       "$$6$$"
      ],
      "text/plain": [
       "6"
      ]
     },
     "execution_count": 5,
     "metadata": {},
     "output_type": "execute_result"
    }
   ],
   "source": [
    "expr = (a+b)*(a+b)-2*a*b\n",
    "expr.subs([(a+b, 2), (a*b, -1)])"
   ]
  },
  {
   "cell_type": "code",
   "execution_count": null,
   "metadata": {},
   "outputs": [],
   "source": []
  }
 ],
 "metadata": {
  "kernelspec": {
   "display_name": "Python 3",
   "language": "python",
   "name": "python3"
  },
  "language_info": {
   "codemirror_mode": {
    "name": "ipython",
    "version": 3
   },
   "file_extension": ".py",
   "mimetype": "text/x-python",
   "name": "python",
   "nbconvert_exporter": "python",
   "pygments_lexer": "ipython3",
   "version": "3.7.3"
  }
 },
 "nbformat": 4,
 "nbformat_minor": 2
}
