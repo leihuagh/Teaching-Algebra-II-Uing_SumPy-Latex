{
 "cells": [
  {
   "cell_type": "markdown",
   "metadata": {},
   "source": [
    "# Worksheet 01~05"
   ]
  },
  {
   "cell_type": "code",
   "execution_count": 1,
   "metadata": {},
   "outputs": [],
   "source": [
    "%config IPCompleter.greedy=True"
   ]
  },
  {
   "cell_type": "code",
   "execution_count": 2,
   "metadata": {},
   "outputs": [],
   "source": [
    "from sympy import *\n",
    "from sympy.geometry.line import Line\n",
    "from sympy.plotting import plot, plot3d\n",
    "import matplotlib.pyplot as plt\n",
    "%matplotlib inline\n",
    "\n",
    "plt.rcParams['figure.figsize'] = 10, 10\n",
    "init_printing(use_unicode=True)\n",
    "x, y, a, b, k, K, A, B = symbols('x y a b k K A B')"
   ]
  },
  {
   "cell_type": "markdown",
   "metadata": {},
   "source": [
    "1. If $a(x+2) + b(x-1)=3$ for all $x$, then $a=$\n",
    "\n",
    "```\n",
    "(A) -1  (B) 0  (C) 1  (D) 2  (E) 3\n",
    "```"
   ]
  },
  {
   "cell_type": "markdown",
   "metadata": {},
   "source": [
    "## Solution"
   ]
  },
  {
   "cell_type": "markdown",
   "metadata": {},
   "source": [
    "### My work"
   ]
  },
  {
   "cell_type": "markdown",
   "metadata": {},
   "source": [
    "$a(x+2)+b(x-1)=3$\n",
    "\n",
    "$ax+2a+bx-b=3$\n",
    "\n",
    "$(a+b)x+(2a-b)=3$\n",
    "\n",
    "$a+b=0$ or $2a-b=3$"
   ]
  },
  {
   "cell_type": "markdown",
   "metadata": {},
   "source": [
    "\\begin{equation}\n",
    "\\begin{aligned}\n",
    "+ \\left\\{ \\begin{array}{rcr}\n",
    "   a + b &= &0 \\\\ \n",
    "   2a  - b &= &3 \\end{array} \\right. \\\\\n",
    "   \\hline\n",
    " \\begin{array}{rcr}\n",
    " 3a & =&\\hphantom{-}3\n",
    " \\end{array}\n",
    "\\end{aligned}\n",
    "\\end{equation}"
   ]
  },
  {
   "cell_type": "markdown",
   "metadata": {},
   "source": [
    "$\n",
    "a = \\frac{3}{3} = 1\n",
    "$\n",
    "\n",
    "$\n",
    "b = -a = -1\n",
    "$\n",
    "\n",
    "$\n",
    "\\begin{cases}\n",
    "    a = 1 \\\\\n",
    "    b = -1\n",
    "\\end{cases}\n",
    "$"
   ]
  },
  {
   "cell_type": "markdown",
   "metadata": {},
   "source": [
    "### Using SymPy"
   ]
  },
  {
   "cell_type": "markdown",
   "metadata": {},
   "source": [
    "#### Method 1"
   ]
  },
  {
   "cell_type": "code",
   "execution_count": 3,
   "metadata": {},
   "outputs": [
    {
     "data": {
      "image/png": "[encoded data removed]",
      "text/latex": [
       "$$a \\left(x + 2\\right) + b \\left(x - 1\\right) = 3$$"
      ],
      "text/plain": [
       "a⋅(x + 2) + b⋅(x - 1) = 3"
      ]
     },
     "execution_count": 3,
     "metadata": {},
     "output_type": "execute_result"
    }
   ],
   "source": [
    "eq = Eq((a*(x+2))+b*(x-1), 3)\n",
    "eq"
   ]
  },
  {
   "cell_type": "code",
   "execution_count": 4,
   "metadata": {},
   "outputs": [
    {
     "data": {
      "image/png": "[encoded data removed]",
      "text/latex": [
       "$$\\left \\{ a : 1, \\quad b : -1\\right \\}$$"
      ],
      "text/plain": [
       "{a: 1, b: -1}"
      ]
     },
     "execution_count": 4,
     "metadata": {},
     "output_type": "execute_result"
    }
   ],
   "source": [
    "solve(eq, a, b)"
   ]
  },
  {
   "cell_type": "markdown",
   "metadata": {},
   "source": [
    "#### Method 2"
   ]
  },
  {
   "cell_type": "code",
   "execution_count": 5,
   "metadata": {},
   "outputs": [
    {
     "data": {
      "image/png": "[encoded data removed]",
      "text/latex": [
       "$$\\left \\{ a : 1, \\quad b : -1\\right \\}$$"
      ],
      "text/plain": [
       "{a: 1, b: -1}"
      ]
     },
     "execution_count": 5,
     "metadata": {},
     "output_type": "execute_result"
    }
   ],
   "source": [
    "solve(((a*(x+2))+b*(x-1)-3), a, b)"
   ]
  },
  {
   "cell_type": "markdown",
   "metadata": {},
   "source": [
    "## Answer: (C)"
   ]
  },
  {
   "cell_type": "markdown",
   "metadata": {},
   "source": [
    "2. If $a+b=2$ and $ab=-1$, then $a^2+b^2=$\n",
    "\n",
    "```\n",
    "(A) 4  (B) 5  (C) 6  (D) 8  (E) 10\n",
    "```"
   ]
  },
  {
   "cell_type": "markdown",
   "metadata": {},
   "source": [
    "## Solution"
   ]
  },
  {
   "cell_type": "markdown",
   "metadata": {},
   "source": [
    "### My Work"
   ]
  },
  {
   "cell_type": "markdown",
   "metadata": {},
   "source": [
    "$\n",
    "\\begin{align}\n",
    "a^2+b^2 & = a^2+b^2+2ab-2ab\\\\\n",
    "& = (a+b)^2-2ab \\\\\n",
    "& = 2^2 - 2(-1)\\\\\n",
    "& = 6\n",
    "\\end{align}\n",
    "$"
   ]
  },
  {
   "cell_type": "markdown",
   "metadata": {},
   "source": [
    "### Using SymPy"
   ]
  },
  {
   "cell_type": "code",
   "execution_count": 6,
   "metadata": {},
   "outputs": [
    {
     "data": {
      "image/png": "[encoded data removed]",
      "text/latex": [
       "$$6$$"
      ],
      "text/plain": [
       "6"
      ]
     },
     "execution_count": 6,
     "metadata": {},
     "output_type": "execute_result"
    }
   ],
   "source": [
    "expr = (a+b)*(a+b)-2*a*b\n",
    "expr.subs([(a+b, 2), (a*b, -1)])"
   ]
  },
  {
   "cell_type": "markdown",
   "metadata": {},
   "source": [
    "## Answer: (C)"
   ]
  },
  {
   "cell_type": "markdown",
   "metadata": {},
   "source": [
    "3. 3. If the graphs of $3x+4y=5$ and $kx+2y=5$ are perpendicular, then $k=$\n",
    "\n",
    "```\n",
    "(A) -2  (B) -2.67  (C) 2.15  (D) 3.20  (E) 4  \n",
    "```"
   ]
  },
  {
   "cell_type": "markdown",
   "metadata": {},
   "source": [
    "## Solution"
   ]
  },
  {
   "cell_type": "markdown",
   "metadata": {},
   "source": [
    "### My Work"
   ]
  },
  {
   "cell_type": "markdown",
   "metadata": {},
   "source": [
    "- Set $slop_{1}$ for $\\ell_{1}$: $3x + 4y = 5$ "
   ]
  },
  {
   "cell_type": "markdown",
   "metadata": {},
   "source": [
    "$\n",
    "\\begin{align}\n",
    "&3x+4y=5\\\\\n",
    "&y= \\frac{-3x+5}{4} = -\\frac{3}{4}x + \\frac{5}{4}\\\\\n",
    "&slop_{1} = -\\frac{3}{4}\n",
    "\\end{align}\n",
    "$"
   ]
  },
  {
   "cell_type": "markdown",
   "metadata": {},
   "source": [
    "- Set $Slop_2$ for $\\ell_{2}$: $kx + 2y = 5$"
   ]
  },
  {
   "cell_type": "markdown",
   "metadata": {},
   "source": [
    "$\n",
    "\\begin{align}\n",
    "&kx + 2y = 5 \\\\\n",
    "&y= \\frac{-kx + 5}{2} = -\\frac{k}{2}x + \\frac{5}{2} \\\\\n",
    "&slop_{2} = -\\frac{k}{2} \\\\\n",
    "\\end{align}\n",
    "$"
   ]
  },
  {
   "cell_type": "markdown",
   "metadata": {},
   "source": [
    "- $\\ell_{1}$ and $\\ell_{2}$ are perpendicular, it means $slop_{1} * slop_{2} = -1$"
   ]
  },
  {
   "cell_type": "markdown",
   "metadata": {},
   "source": [
    "$\n",
    "\\begin{align}\n",
    "&(-\\frac{3}{4}) * (-\\frac{k}{2}) = -1 \\\\\n",
    "&k = -\\frac{2*4}{3} = -\\frac{8}{3} \\approx -2.67 \\\\\n",
    "\\end{align}\n",
    "$"
   ]
  },
  {
   "cell_type": "markdown",
   "metadata": {},
   "source": [
    "### Using SymPy"
   ]
  },
  {
   "cell_type": "code",
   "execution_count": 7,
   "metadata": {},
   "outputs": [
    {
     "data": {
      "image/png": "[encoded data removed]",
      "text/latex": [
       "$$-2.67$$"
      ],
      "text/plain": [
       "-2.67"
      ]
     },
     "execution_count": 7,
     "metadata": {},
     "output_type": "execute_result"
    }
   ],
   "source": [
    "result = solve((-3/4)*(-k/2)+1, k)\n",
    "result[0].evalf(3)"
   ]
  },
  {
   "cell_type": "markdown",
   "metadata": {},
   "source": [
    "## Answer: (B)"
   ]
  },
  {
   "cell_type": "markdown",
   "metadata": {},
   "source": [
    "4. If $K=\\frac{AB}{A+B}$, then $B=$"
   ]
  },
  {
   "cell_type": "markdown",
   "metadata": {},
   "source": [
    "$\n",
    "\\begin{align}\n",
    "&(A) \\space \\frac{A}{1-A}\\\\\n",
    "&(B) \\space \\frac{AK}{A-K}\\\\\n",
    "&(C) \\space \\frac{AK}{K-A}\\\\\n",
    "&(D) \\space \\frac{A+K}{A}\\\\\n",
    "&(E) \\space \\frac{A-K}{AK}\n",
    "\\end{align}\n",
    "$"
   ]
  },
  {
   "cell_type": "markdown",
   "metadata": {},
   "source": [
    "## Solution"
   ]
  },
  {
   "cell_type": "markdown",
   "metadata": {},
   "source": [
    "### My Work"
   ]
  },
  {
   "cell_type": "markdown",
   "metadata": {},
   "source": [
    "$\n",
    "\\begin{align}\n",
    "&K=\\frac{AB}{A+B}\\\\\n",
    "&K(A+B)=AB\\\\\n",
    "&KA+KB=AB\\\\\n",
    "&KA=(A-K)B\\\\\n",
    "&(A-K)B=KA\\\\\n",
    "&B=\\frac{KA}{A-K}\\\\\n",
    "\\end{align}\n",
    "$"
   ]
  },
  {
   "cell_type": "markdown",
   "metadata": {},
   "source": [
    "### By SymPy"
   ]
  },
  {
   "cell_type": "code",
   "execution_count": 8,
   "metadata": {},
   "outputs": [
    {
     "data": {
      "image/png": "[encoded data removed]",
      "text/latex": [
       "$$\\left [ \\frac{A K}{A - K}\\right ]$$"
      ],
      "text/plain": [
       "⎡ A⋅K ⎤\n",
       "⎢─────⎥\n",
       "⎣A - K⎦"
      ]
     },
     "execution_count": 8,
     "metadata": {},
     "output_type": "execute_result"
    }
   ],
   "source": [
    "solve(Eq(K, (A*B)/(A+B)), B)"
   ]
  },
  {
   "cell_type": "markdown",
   "metadata": {},
   "source": [
    "## Answer: (B)"
   ]
  },
  {
   "cell_type": "markdown",
   "metadata": {},
   "source": [
    "5. If $\\log 3 = a$, then $\\log 90=$"
   ]
  },
  {
   "cell_type": "markdown",
   "metadata": {},
   "source": [
    "$(A) 1+2𝑎$\n",
    "\n",
    "$(B) 10a^2$\n",
    "\n",
    "$(C) 10+2a$\n",
    "\n",
    "$(D) 30a$\n",
    "\n",
    "$(E) 10+3a$"
   ]
  },
  {
   "cell_type": "markdown",
   "metadata": {},
   "source": [
    "## Solution"
   ]
  },
  {
   "cell_type": "markdown",
   "metadata": {},
   "source": [
    "### My Work"
   ]
  },
  {
   "cell_type": "markdown",
   "metadata": {},
   "source": [
    "\\begin{aligned}\n",
    "\\log{90} & = \\log{(9 text{*} 10)}\\\\\n",
    "& = \\log{(9)} + \\log{(10)}\\\\\n",
    "& = \\log{3^2}+1\\\\\n",
    "& = 2 \\log{3}+1\\\\\n",
    "& = 2a+1\n",
    "\\end{aligned}"
   ]
  },
  {
   "cell_type": "markdown",
   "metadata": {},
   "source": [
    "### By SymPy"
   ]
  },
  {
   "cell_type": "code",
   "execution_count": 9,
   "metadata": {},
   "outputs": [
    {
     "data": {
      "image/png": "[encoded data removed]",
      "text/latex": [
       "$$2 a + 1$$"
      ],
      "text/plain": [
       "2⋅a + 1"
      ]
     },
     "execution_count": 9,
     "metadata": {},
     "output_type": "execute_result"
    }
   ],
   "source": [
    "expr = 2*log(3)+1\n",
    "expr.subs(log(3), a)"
   ]
  },
  {
   "cell_type": "markdown",
   "metadata": {},
   "source": [
    "## Answer: (A)"
   ]
  },
  {
   "cell_type": "code",
   "execution_count": null,
   "metadata": {},
   "outputs": [],
   "source": []
  }
 ],
 "metadata": {
  "kernelspec": {
   "display_name": "Python 3",
   "language": "python",
   "name": "python3"
  },
  "language_info": {
   "codemirror_mode": {
    "name": "ipython",
    "version": 3
   },
   "file_extension": ".py",
   "mimetype": "text/x-python",
   "name": "python",
   "nbconvert_exporter": "python",
   "pygments_lexer": "ipython3",
   "version": "3.7.3"
  }
 },
 "nbformat": 4,
 "nbformat_minor": 2
}
