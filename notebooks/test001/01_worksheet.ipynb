{
 "cells": [
  {
   "cell_type": "markdown",
   "metadata": {},
   "source": [
    "# Worksheet 001 (1~5)"
   ]
  },
  {
   "cell_type": "markdown",
   "metadata": {},
   "source": [
    "%config IPCompleter.greedy=True"
   ]
  },
  {
   "cell_type": "code",
   "execution_count": 1,
   "metadata": {},
   "outputs": [],
   "source": [
    "from sympy import *\n",
    "from sympy.geometry.line import Line\n",
    "from sympy.plotting import plot, plot3d\n",
    "import matplotlib.pyplot as plt\n",
    "%matplotlib inline\n",
    "\n",
    "plt.rcParams['figure.figsize'] = 10, 10\n",
    "init_printing(use_unicode=True)\n",
    "x, y, a, b, k = symbols('x y a b k')"
   ]
  },
  {
   "cell_type": "markdown",
   "metadata": {},
   "source": [
    "1. If $a(x+2) + b(x-1)=3$ for all $x$, then $a=$\n",
    "\n",
    "```\n",
    "(A) -1  (B) 0  (C) 1  (D) 2  (E) 3\n",
    "```"
   ]
  },
  {
   "cell_type": "markdown",
   "metadata": {},
   "source": [
    "## Solution"
   ]
  },
  {
   "cell_type": "markdown",
   "metadata": {},
   "source": [
    "### My work"
   ]
  },
  {
   "cell_type": "markdown",
   "metadata": {},
   "source": [
    "$$a(x+2)+b(x-1)=3$$\n",
    "$$ax+2a+bx-b=3$$\n",
    "$$(a+b)x+(2a-b)=3$$\n",
    "\\begin{aligned}\\\\ \n",
    "\\swarrow\\quad&\\searrow \\\\\n",
    "\\\\ a+b=0\\text{ or }&2a-b=3 \\\\ \n",
    "\\end{aligned}"
   ]
  },
  {
   "cell_type": "markdown",
   "metadata": {},
   "source": [
    "\\begin{equation}\n",
    "\\begin{aligned}\n",
    "+ \\left\\{ \\begin{array}{rcr}\n",
    "   a + b &= &0 \\\\ \n",
    "   2a - b &= &3 \n",
    "   \\end{array} \n",
    "   \\right. \\\\\n",
    "   \\hline\n",
    " \\begin{array}{rcr}\n",
    " 3a   &= &\\hphantom{-}3\n",
    " \\end{array}\n",
    "\\end{aligned}\n",
    "\\end{equation}\n",
    "\n",
    "$\n",
    "a = \\frac{3}{3} = 1\n",
    "$\n",
    "\n",
    "$\n",
    "b = -a = -1\n",
    "$\n",
    "\n",
    "$\n",
    "\\begin{cases}\n",
    "    a = 1 \\\\\n",
    "    b = -1\n",
    "\\end{cases}\n",
    "$"
   ]
  },
  {
   "cell_type": "markdown",
   "metadata": {},
   "source": [
    "### Using SymPy"
   ]
  },
  {
   "cell_type": "markdown",
   "metadata": {},
   "source": [
    "#### Method 1"
   ]
  },
  {
   "cell_type": "code",
   "execution_count": 2,
   "metadata": {},
   "outputs": [
    {
     "data": {
      "image/png": "[encoded data removed]",
      "text/latex": [
       "$$a \\left(x + 2\\right) + b \\left(x - 1\\right) = 3$$"
      ],
      "text/plain": [
       "a⋅(x + 2) + b⋅(x - 1) = 3"
      ]
     },
     "execution_count": 2,
     "metadata": {},
     "output_type": "execute_result"
    }
   ],
   "source": [
    "eq = Eq((a*(x+2))+b*(x-1), 3)\n",
    "eq"
   ]
  },
  {
   "cell_type": "code",
   "execution_count": 3,
   "metadata": {},
   "outputs": [
    {
     "data": {
      "image/png": "[encoded data removed]",
      "text/latex": [
       "$$\\left \\{ a : 1, \\quad b : -1\\right \\}$$"
      ],
      "text/plain": [
       "{a: 1, b: -1}"
      ]
     },
     "execution_count": 3,
     "metadata": {},
     "output_type": "execute_result"
    }
   ],
   "source": [
    "solve(eq, a, b)"
   ]
  },
  {
   "cell_type": "markdown",
   "metadata": {},
   "source": [
    "#### Method 2"
   ]
  },
  {
   "cell_type": "code",
   "execution_count": 4,
   "metadata": {},
   "outputs": [
    {
     "data": {
      "image/png": "[encoded data removed]",
      "text/latex": [
       "$$\\left \\{ a : 1, \\quad b : -1\\right \\}$$"
      ],
      "text/plain": [
       "{a: 1, b: -1}"
      ]
     },
     "execution_count": 4,
     "metadata": {},
     "output_type": "execute_result"
    }
   ],
   "source": [
    "solve(((a*(x+2))+b*(x-1)-3), a, b)"
   ]
  },
  {
   "cell_type": "markdown",
   "metadata": {},
   "source": [
    "## Answer: (C)"
   ]
  },
  {
   "cell_type": "markdown",
   "metadata": {},
   "source": [
    "2. If $a+b=2$ and $ab=-1$, then $a^2+b^2=$\n",
    "\n",
    "```\n",
    "(A) 4  (B) 5  (C) 6  (D) 8  (E) 10\n",
    "```"
   ]
  },
  {
   "cell_type": "markdown",
   "metadata": {},
   "source": [
    "## Solution"
   ]
  },
  {
   "cell_type": "markdown",
   "metadata": {},
   "source": [
    "### My Work"
   ]
  },
  {
   "cell_type": "markdown",
   "metadata": {},
   "source": [
    "$\n",
    "\\begin{align}\n",
    "a^2+b^2 & = a^2+b^2+2ab-2ab\\\\\n",
    "& = (a+b)^2-2ab \\\\\n",
    "& = 2^2 - 2(-1)\\\\\n",
    "& = 6\n",
    "\\end{align}\n",
    "$"
   ]
  },
  {
   "cell_type": "markdown",
   "metadata": {},
   "source": [
    "### Using SymPy"
   ]
  },
  {
   "cell_type": "code",
   "execution_count": 5,
   "metadata": {},
   "outputs": [
    {
     "data": {
      "image/png": "[encoded data removed]",
      "text/latex": [
       "$$6$$"
      ],
      "text/plain": [
       "6"
      ]
     },
     "execution_count": 5,
     "metadata": {},
     "output_type": "execute_result"
    }
   ],
   "source": [
    "expr = (a+b)*(a+b)-2*a*b\n",
    "expr.subs([(a+b, 2), (a*b, -1)])"
   ]
  },
  {
   "cell_type": "markdown",
   "metadata": {},
   "source": [
    "## Answer: (C)"
   ]
  },
  {
   "cell_type": "markdown",
   "metadata": {},
   "source": [
    "3. 3. If the graphs of $3x+4y=5$ and $kx+2y=5$ are perpendicular, then $k=$\n",
    "\n",
    "```\n",
    "(A) -2  (B) -2.67  (C) 2.15  (D) 3.20  (E) 4  \n",
    "```"
   ]
  },
  {
   "cell_type": "markdown",
   "metadata": {},
   "source": [
    "## Solution"
   ]
  },
  {
   "cell_type": "markdown",
   "metadata": {},
   "source": [
    "### My Work"
   ]
  },
  {
   "cell_type": "markdown",
   "metadata": {},
   "source": [
    "- Set $slop_{1}$ for $\\ell_{1}$: $3x + 4y = 5$ "
   ]
  },
  {
   "cell_type": "markdown",
   "metadata": {},
   "source": [
    "$\n",
    "\\begin{align}\n",
    "&3x+4y=5\\\\\n",
    "&y= \\frac{-3x+5}{4} = -\\frac{3}{4}x + \\frac{5}{4}\\\\\n",
    "&slop_{1} = -\\frac{3}{4}\n",
    "\\end{align}\n",
    "$"
   ]
  },
  {
   "cell_type": "markdown",
   "metadata": {},
   "source": [
    "- Set $Slop_2$ for $\\ell_{2}$: $kx + 2y = 5$"
   ]
  },
  {
   "cell_type": "markdown",
   "metadata": {},
   "source": [
    "$\n",
    "\\begin{align}\n",
    "&kx + 2y = 5 \\\\\n",
    "&y= \\frac{-kx + 5}{2} = -\\frac{k}{2}x + \\frac{5}{2} \\\\\n",
    "&slop_{2} = -\\frac{k}{2} \\\\\n",
    "\\end{align}\n",
    "$"
   ]
  },
  {
   "cell_type": "markdown",
   "metadata": {},
   "source": [
    "- $\\ell_{1}$ and $\\ell_{2}$ are perpendicular, it means $slop_{1} * slop_{2} = -1$"
   ]
  },
  {
   "cell_type": "markdown",
   "metadata": {},
   "source": [
    "$\n",
    "\\begin{align}\n",
    "&(-\\frac{3}{4}) * (-\\frac{k}{2}) = -1 \\\\\n",
    "&k = -\\frac{2*4}{3} = -\\frac{8}{3} \\approx -2.67 \\\\\n",
    "\\end{align}\n",
    "$"
   ]
  },
  {
   "cell_type": "code",
   "execution_count": 6,
   "metadata": {},
   "outputs": [
    {
     "data": {
      "image/png": "[encoded data removed]",
      "text/latex": [
       "$$-2.67$$"
      ],
      "text/plain": [
       "-2.67"
      ]
     },
     "execution_count": 6,
     "metadata": {},
     "output_type": "execute_result"
    }
   ],
   "source": [
    "result = solve((-3/4)*(-k/2)+1, k)\n",
    "result[0].evalf(3)"
   ]
  },
  {
   "cell_type": "markdown",
   "metadata": {},
   "source": [
    "## Answer: (B)"
   ]
  },
  {
   "cell_type": "code",
   "execution_count": null,
   "metadata": {},
   "outputs": [],
   "source": []
  }
 ],
 "metadata": {
  "kernelspec": {
   "display_name": "Python 3",
   "language": "python",
   "name": "python3"
  },
  "language_info": {
   "codemirror_mode": {
    "name": "ipython",
    "version": 3
   },
   "file_extension": ".py",
   "mimetype": "text/x-python",
   "name": "python",
   "nbconvert_exporter": "python",
   "pygments_lexer": "ipython3",
   "version": "3.7.3"
  }
 },
 "nbformat": 4,
 "nbformat_minor": 2
}
